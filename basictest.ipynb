{
 "cells": [
  {
   "attachments": {},
   "cell_type": "markdown",
   "metadata": {},
   "source": [
    "# Basic API Usage"
   ]
  },
  {
   "attachments": {},
   "cell_type": "markdown",
   "metadata": {},
   "source": [
    "Note: the API is in a basic state, it really doesn't do a whole lot more than\n",
    "the website does for now! The biggest (and hopefully easy) features to implement\n",
    "are\n",
    "\n",
    "- caching results locally (just need to dump the json in LumenAPIManager)\n",
    "- making a dataframe/pandas/polars interface (use dataclasse's `asdict` method to convert them to dictionaries, feed to pandas)\n",
    "- formally doing pagination (easy in code but can be brought over)"
   ]
  },
  {
   "attachments": {},
   "cell_type": "markdown",
   "metadata": {},
   "source": [
    "## Prep"
   ]
  },
  {
   "attachments": {},
   "cell_type": "markdown",
   "metadata": {},
   "source": [
    "Make sure you've followed the README, most notably\n",
    "- install the needed libraries from `requirements.txt`\n",
    "    - if you want to write a notebook, also install `ipykernel`. I'd recommend VSCode's interface so you can actually use Python typechecking\n",
    "- have the LUMEN_API key in a `.env` file or in your terminal env. **NEVER PUT IT IN SOURCE CODE. NEVER PUSH IT TO GITHUB.**"
   ]
  },
  {
   "cell_type": "code",
   "execution_count": 2,
   "metadata": {},
   "outputs": [],
   "source": [
    "from dotenv import load_dotenv\n",
    "from os import getenv\n",
    "\n",
    "load_dotenv()\n",
    "api_key = getenv(\"LUMEN_API\")\n",
    "if not api_key:\n",
    "    raise Exception(\"A Lumen API key needs to be in a .env file!\")"
   ]
  },
  {
   "attachments": {},
   "cell_type": "markdown",
   "metadata": {},
   "source": [
    "## Basic Querying"
   ]
  },
  {
   "cell_type": "code",
   "execution_count": 3,
   "metadata": {},
   "outputs": [],
   "source": [
    "import logging\n",
    "\n",
    "# If you don't want logging from the API, comment this out!\n",
    "logging.basicConfig(level=logging.INFO)"
   ]
  },
  {
   "attachments": {},
   "cell_type": "markdown",
   "metadata": {},
   "source": [
    "First, you need to create an api session, this will hold our api key and handle\n",
    "timing our requests for us. The LumenAPIManager constructor also holds the timeout in seconds\n",
    "and cache location - if you don't want caching, set cache to None."
   ]
  },
  {
   "cell_type": "code",
   "execution_count": 4,
   "metadata": {},
   "outputs": [],
   "source": [
    "from lumen.LumenAPIManager import LumenAPIManager\n",
    "s = LumenAPIManager(api_key)"
   ]
  },
  {
   "attachments": {},
   "cell_type": "markdown",
   "metadata": {},
   "source": [
    "Entity (people who file requests) and notice grabbing just dump the JSON for now, I prioritized searching. This can/will be improved, they're very simple objects. Note that we can make multiple API requests in a row: the manager will take care of sleeping between requests!"
   ]
  },
  {
   "cell_type": "code",
   "execution_count": 5,
   "metadata": {},
   "outputs": [
    {
     "name": "stderr",
     "output_type": "stream",
     "text": [
      "INFO:root:Cache hit on /entities/search.json with {'term': 'Youtube Inc', 'per_page': '1'}\n",
      "INFO:root:Cache hit on /notices/5.json with None\n"
     ]
    },
    {
     "name": "stdout",
     "output_type": "stream",
     "text": [
      "{'entities': [{'country_code': '',\n",
      "               'id': 9159,\n",
      "               'name': 'YouTube, Inc.',\n",
      "               'parent_id': None,\n",
      "               'url': ''}],\n",
      " 'meta': {'current_page': 1,\n",
      "          'facets': None,\n",
      "          'next_page': 2,\n",
      "          'offset': None,\n",
      "          'per_page': None,\n",
      "          'previous_page': None,\n",
      "          'query': {'term': 'Youtube Inc'},\n",
      "          'total_entries': None,\n",
      "          'total_pages': 10000}}\n",
      "{'dmca': {'action_taken': '',\n",
      "          'body': None,\n",
      "          'case_id_number': None,\n",
      "          'date_received': '2012-04-13T04:00:00.000Z',\n",
      "          'date_sent': '2012-04-13T04:00:00.000Z',\n",
      "          'id': 5,\n",
      "          'jurisdictions': [],\n",
      "          'language': None,\n",
      "          'principal_name': None,\n",
      "          'recipient_name': 'Google LLC',\n",
      "          'sender_name': 'BPI (British Recorded Music Industry) Ltd',\n",
      "          'tags': [],\n",
      "          'title': 'BPI DMCA (Copyright) Complaint to Google',\n",
      "          'topics': ['Copyright', 'DMCA Safe Harbor'],\n",
      "          'type': 'DMCA',\n",
      "          'works': [{'copyrighted_urls': [{'url': 'No URL submitted'}],\n",
      "                     'description': 'LMFAO SEXY AND I KNOW IT',\n",
      "                     'infringing_urls': [{'url': 'http://www.4shared.com/mp3/6qCGPMEw/LMFAO_-_Party_Rock_Anthem.htm'}]}]}}\n"
     ]
    }
   ],
   "source": [
    "from pprint import pprint\n",
    "pprint(s.search_entity(\"Youtube Inc\", per_page=1))\n",
    "pprint(s.get_notice(5))"
   ]
  },
  {
   "attachments": {},
   "cell_type": "markdown",
   "metadata": {},
   "source": [
    "Searching is more indepth. Create a new search query, add all the terms you want (use your IDE's autocomplete), and then search. You'll get a SearchResult back! Let's get the first 5 Star Wars results."
   ]
  },
  {
   "cell_type": "code",
   "execution_count": 6,
   "metadata": {},
   "outputs": [
    {
     "name": "stderr",
     "output_type": "stream",
     "text": [
      "INFO:root:Cache hit on /notices/search.json with {'term': 'star wars', 'per_page': '3', 'topics': <Topic.DMCANotice: 'DMCA Notices'>}\n"
     ]
    }
   ],
   "source": [
    "from lumen.SearchQuery import SearchQuery, Topic\n",
    "result = SearchQuery(s).with_query(\"star wars\").with_amount(3).with_topic(Topic.DMCANotice).search()"
   ]
  },
  {
   "attachments": {},
   "cell_type": "markdown",
   "metadata": {},
   "source": [
    "First, we can look at the metadata. This is pretty powerful by itself - without having to get every single notice, we get plenty of numbers about *every* entry that applied to our term. For instance, who are the top 10 principals for Star Wars content? (A principal is the one who owns the content, as far as I can tell)"
   ]
  },
  {
   "cell_type": "code",
   "execution_count": 7,
   "metadata": {},
   "outputs": [
    {
     "data": {
      "text/plain": [
       "[NameCount(name='BPI LTD MEMBER COMPANIES', instances=223027),\n",
       " NameCount(name='Mauris Film', instances=93124),\n",
       " NameCount(name='StarMedia', instances=86436),\n",
       " NameCount(name='CM.', instances=73080),\n",
       " NameCount(name='R1', instances=67699),\n",
       " NameCount(name='R-1', instances=65736),\n",
       " NameCount(name='MG Premium Ltd', instances=58012),\n",
       " NameCount(name='VGT', instances=40359),\n",
       " NameCount(name='BPI (British Recorded Music Industry) Ltd', instances=35496),\n",
       " NameCount(name='sacem', instances=30403)]"
      ]
     },
     "execution_count": 7,
     "metadata": {},
     "output_type": "execute_result"
    }
   ],
   "source": [
    "result.metadata.principals"
   ]
  },
  {
   "attachments": {},
   "cell_type": "markdown",
   "metadata": {},
   "source": [
    "BPI seems to be the biggest principal - that last one lets us know that it's the British Recorded Music Industry, so likely based on the soundtrack, interesting. Who's filing these requests, if it isn't the principal?"
   ]
  },
  {
   "cell_type": "code",
   "execution_count": 8,
   "metadata": {},
   "outputs": [
    {
     "data": {
      "text/plain": [
       "[NameCount(name='STAR MEDIA CONTENT PROTECTION', instances=294008),\n",
       " NameCount(name='BPI (British Recorded Music Industry) Ltd', instances=255087),\n",
       " NameCount(name='Star Media LLC.', instances=150161),\n",
       " NameCount(name='STAR MEDIA', instances=119662),\n",
       " NameCount(name='MG Premium Ltd.', instances=62072),\n",
       " NameCount(name='rivendell', instances=48341),\n",
       " NameCount(name='AudioLock.NET', instances=37934),\n",
       " NameCount(name='Link-Busters.com', instances=31068),\n",
       " NameCount(name='Remove Your Media LLC', instances=30868),\n",
       " NameCount(name='Recording Industry Association of America, Inc.', instances=29690)]"
      ]
     },
     "execution_count": 8,
     "metadata": {},
     "output_type": "execute_result"
    }
   ],
   "source": [
    "result.metadata.senders  # Note: submitters are those who submited it to LUMEN, senders are those who sent the request"
   ]
  },
  {
   "attachments": {},
   "cell_type": "markdown",
   "metadata": {},
   "source": [
    "BPI is definitely submitting their own, but Star Media could be something to look into. Use your IDE to look into the other fields in metadata! We get all of this without getting all of those individual entries, pretty sweet."
   ]
  },
  {
   "attachments": {},
   "cell_type": "markdown",
   "metadata": {},
   "source": [
    "Now we can take a look at some entries."
   ]
  },
  {
   "cell_type": "code",
   "execution_count": 9,
   "metadata": {},
   "outputs": [
    {
     "name": "stdout",
     "output_type": "stream",
     "text": [
      "Notice(title='DMCA (Copyright) Complaint to Google',\n",
      "       type=<NoticeType.Dmca: 'DMCA'>,\n",
      "       date_sent='2022-02-28T00:00:00.000Z',\n",
      "       date_received='2022-02-28T00:00:00.000Z',\n",
      "       topics=[<Topic.DMCANotice: 'DMCA Notices'>,\n",
      "               <Topic.Copyright: 'Copyright'>],\n",
      "       tags=[],\n",
      "       jurisdictions=['DE'],\n",
      "       infringing_urls=Counter({'canna-power.to': 14, 'rapidgator.net': 2}),\n",
      "       works=['Meade,Austin - Black Sheep',\n",
      "              'Star Wars - Episode 5 - Das Imperium Schlägt Zurück',\n",
      "              'Star Wars - Episode 6 - Die Rückkehr Der Jedi Ritter',\n",
      "              'Star Wars - Solo: A Star Wars Story',\n",
      "              'Star Wars - Star Wars: Angriff Der Klonkrieger',\n",
      "              'Star Wars - Star Wars: Die Dunkle Bedrohung',\n",
      "              'Star Wars - Star Wars: Die Letzten Jedi',\n",
      "              'Star Wars - Star Wars: Die Rache Der Sith',\n",
      "              'Star Wars - Star Wars: Eine Neue Hoffnung',\n",
      "              'Warbringer - Weapons Of Tomorrow'],\n",
      "       subject=None,\n",
      "       body=None,\n",
      "       language=None,\n",
      "       action_taken=None)\n"
     ]
    }
   ],
   "source": [
    "pprint(result.notices[0])"
   ]
  },
  {
   "attachments": {},
   "cell_type": "markdown",
   "metadata": {},
   "source": [
    "So we get one request here, we see that it's DMCA, it was within the DE jurisdiction, the two URLs they were targetting were canna-power.to and rapidator.net and we counted how many times those urls occured. Let's join all the urls together for all 5 of those requests and see what the most common were:"
   ]
  },
  {
   "cell_type": "code",
   "execution_count": 10,
   "metadata": {},
   "outputs": [
    {
     "data": {
      "text/plain": [
       "[('book4you.org', 210),\n",
       " ('nerdebooks.com', 37),\n",
       " ('gosemuts.space', 30),\n",
       " ('minhateca.com.br', 16),\n",
       " ('canna-power.to', 14),\n",
       " ('toutbox.fr', 14),\n",
       " ('chomikuj.pl', 12),\n",
       " ('185.231.223.131', 9),\n",
       " ('123moviesgo.ws', 8),\n",
       " ('103.194.171.185', 7)]"
      ]
     },
     "execution_count": 10,
     "metadata": {},
     "output_type": "execute_result"
    }
   ],
   "source": [
    "from functools import reduce\n",
    "reduce(lambda a, b: a + b, (notice.infringing_urls for notice in result.notices)).most_common(10)"
   ]
  },
  {
   "attachments": {},
   "cell_type": "markdown",
   "metadata": {},
   "source": [
    "Haha, that's pretty cool, interesting that book websites were actually the highest number of requests here. book4you.org has been seized by the United States Government, and I'm probably on a list now for trying to visit it."
   ]
  },
  {
   "attachments": {},
   "cell_type": "markdown",
   "metadata": {},
   "source": [
    "You can also access the raw json with `result.raw`. I haven't mapped everything, if there's something in the JSON you want in the python object feel free to add it or let me know. The mapping from JSON to object is in `SearchResult.py`."
   ]
  },
  {
   "attachments": {},
   "cell_type": "markdown",
   "metadata": {},
   "source": [
    "Anyways that's generally where it's at right now, it returns Python objects that you can explore and compare. I definitely want to get it into a dataframe, shouldn't be that bad. There are some fields I haven't mapped, feel free to mess around with those."
   ]
  },
  {
   "attachments": {},
   "cell_type": "markdown",
   "metadata": {},
   "source": [
    "## Basic Pagination Example"
   ]
  },
  {
   "attachments": {},
   "cell_type": "markdown",
   "metadata": {},
   "source": [
    "Haven't added this as a function, but pagination is pretty simple:"
   ]
  },
  {
   "cell_type": "code",
   "execution_count": 14,
   "metadata": {},
   "outputs": [
    {
     "name": "stderr",
     "output_type": "stream",
     "text": [
      "INFO:root:Cache hit on /notices/search.json with {'per_page': '1', 'term': 'Skinamarink', 'page': '1'}\n",
      "INFO:root:Cache hit on /notices/search.json with {'per_page': '1', 'term': 'Skinamarink', 'page': '2'}\n",
      "INFO:root:Cache hit on /notices/search.json with {'per_page': '1', 'term': 'Skinamarink', 'page': '3'}\n"
     ]
    },
    {
     "data": {
      "text/plain": [
       "[('DMCA (Copyright) Complaint to Google', '2023-01-04T00:00:00.000Z'),\n",
       " ('DMCA (Copyright) Complaint to Google', '2023-01-18T00:00:00.000Z'),\n",
       " ('DMCA (Copyright) Complaint to Google', '2022-12-29T00:00:00.000Z')]"
      ]
     },
     "execution_count": 14,
     "metadata": {},
     "output_type": "execute_result"
    }
   ],
   "source": [
    "from lumen.SearchResult import Notice\n",
    "# Build a query and set the number per page, but don't set the page or search it yet\n",
    "basic_query = SearchQuery(s).with_amount(1).with_query(\"Skinamarink\")\n",
    "# Start building a list of notices\n",
    "notices : list[Notice] = []\n",
    "\n",
    "# Be sure to use range 1, since we don't want page 0.\n",
    "for page in range(1, 4):\n",
    "    # Set the page for the query each time and search it!\n",
    "    data = basic_query.with_page(page).search()\n",
    "    notices.extend(data.notices)\n",
    "\n",
    "# entries now holds all the entries from all pages!\n",
    "[(notice.title, notice.date_received) for notice in notices]"
   ]
  },
  {
   "attachments": {},
   "cell_type": "markdown",
   "metadata": {},
   "source": [
    "Finally, remember to close your session :) Not a biggie but it's polite. If you're writing a script you can instead do this in a with block (see `basictest.py`)"
   ]
  },
  {
   "cell_type": "code",
   "execution_count": 12,
   "metadata": {},
   "outputs": [],
   "source": [
    "s.close()"
   ]
  }
 ],
 "metadata": {
  "kernelspec": {
   "display_name": "venv",
   "language": "python",
   "name": "python3"
  },
  "language_info": {
   "codemirror_mode": {
    "name": "ipython",
    "version": 3
   },
   "file_extension": ".py",
   "mimetype": "text/x-python",
   "name": "python",
   "nbconvert_exporter": "python",
   "pygments_lexer": "ipython3",
   "version": "3.11.3"
  },
  "orig_nbformat": 4
 },
 "nbformat": 4,
 "nbformat_minor": 2
}
