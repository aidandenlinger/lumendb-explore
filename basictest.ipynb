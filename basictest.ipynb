{
 "cells": [
  {
   "attachments": {},
   "cell_type": "markdown",
   "metadata": {},
   "source": [
    "# Basic API Usage"
   ]
  },
  {
   "attachments": {},
   "cell_type": "markdown",
   "metadata": {},
   "source": [
    "Note: the API is in a basic state, it really doesn't do a whole lot more than\n",
    "the website does for now! The biggest (and hopefully easy) features to implement\n",
    "are\n",
    "\n",
    "- caching results locally (just need to dump the json in LumenAPIManager)\n",
    "- making a dataframe/pandas/polars interface (use dataclasse's `asdict` method to convert them to dictionaries, feed to pandas)\n",
    "- formally doing pagination (easy in code but can be brought over)"
   ]
  },
  {
   "attachments": {},
   "cell_type": "markdown",
   "metadata": {},
   "source": [
    "## Prep"
   ]
  },
  {
   "attachments": {},
   "cell_type": "markdown",
   "metadata": {},
   "source": [
    "Make sure you've followed the README, most notably\n",
    "- install the needed libraries from `requirements.txt`\n",
    "    - if you want to write a notebook, also install `ipykernel`. I'd recommend VSCode's interface so you can actually use Python typechecking\n",
    "- have the LUMEN_API key in a `.env` file or in your terminal env. **NEVER PUT IT IN SOURCE CODE. NEVER PUSH IT TO GITHUB.**"
   ]
  },
  {
   "cell_type": "code",
   "execution_count": 2,
   "metadata": {},
   "outputs": [],
   "source": [
    "from dotenv import load_dotenv\n",
    "from os import getenv\n",
    "\n",
    "load_dotenv()\n",
    "api_key = getenv(\"LUMEN_API\")\n",
    "if not api_key:\n",
    "    raise Exception(\"A Lumen API key needs to be in a .env file!\")"
   ]
  },
  {
   "attachments": {},
   "cell_type": "markdown",
   "metadata": {},
   "source": [
    "## Basic Querying"
   ]
  },
  {
   "cell_type": "code",
   "execution_count": 3,
   "metadata": {},
   "outputs": [],
   "source": [
    "import logging\n",
    "\n",
    "# If you don't want logging from the API, comment this out!\n",
    "logging.basicConfig(level=logging.INFO)"
   ]
  },
  {
   "attachments": {},
   "cell_type": "markdown",
   "metadata": {},
   "source": [
    "First, you need to create an api session, this will hold our api key and handle\n",
    "timing our requests for us. The LumenAPIManager constructor also holds the timeout in seconds\n",
    "and cache location - if you don't want caching, set cache to None."
   ]
  },
  {
   "cell_type": "code",
   "execution_count": 4,
   "metadata": {},
   "outputs": [],
   "source": [
    "from lumen.LumenAPIManager import LumenAPIManager\n",
    "s = LumenAPIManager(api_key)"
   ]
  },
  {
   "attachments": {},
   "cell_type": "markdown",
   "metadata": {},
   "source": [
    "Entity (people who file requests) and notice grabbing just dump the JSON for now, I prioritized searching. This can/will be improved, they're very simple objects. Note that we can make multiple API requests in a row: the manager will take care of sleeping between requests!"
   ]
  },
  {
   "cell_type": "code",
   "execution_count": 5,
   "metadata": {},
   "outputs": [
    {
     "name": "stderr",
     "output_type": "stream",
     "text": [
      "INFO:root:Cache hit on /entities/search.json with {'term': 'Youtube Inc', 'per_page': '1'} at cache/434fc7cd28485349912cd4e615878ce21cc756cf3266e1ad279ccfff392de359.json\n",
      "INFO:root:Cache hit on /notices/5.json with None at cache/425f22d76b99a1a27b301953ce13b0e8dec71822f2641a7fd045f89ce06dbef5.json\n"
     ]
    },
    {
     "name": "stdout",
     "output_type": "stream",
     "text": [
      "{'entities': [{'country_code': '',\n",
      "               'id': 9159,\n",
      "               'name': 'YouTube, Inc.',\n",
      "               'parent_id': None,\n",
      "               'url': ''}],\n",
      " 'meta': {'current_page': 1,\n",
      "          'facets': None,\n",
      "          'next_page': 2,\n",
      "          'offset': None,\n",
      "          'per_page': None,\n",
      "          'previous_page': None,\n",
      "          'query': {'term': 'Youtube Inc'},\n",
      "          'total_entries': None,\n",
      "          'total_pages': 10000}}\n",
      "{'dmca': {'action_taken': '',\n",
      "          'body': None,\n",
      "          'case_id_number': None,\n",
      "          'date_received': '2012-04-13T04:00:00.000Z',\n",
      "          'date_sent': '2012-04-13T04:00:00.000Z',\n",
      "          'id': 5,\n",
      "          'jurisdictions': [],\n",
      "          'language': None,\n",
      "          'principal_name': None,\n",
      "          'recipient_name': 'Google LLC',\n",
      "          'sender_name': 'BPI (British Recorded Music Industry) Ltd',\n",
      "          'tags': [],\n",
      "          'title': 'BPI DMCA (Copyright) Complaint to Google',\n",
      "          'topics': ['Copyright', 'DMCA Safe Harbor'],\n",
      "          'type': 'DMCA',\n",
      "          'works': [{'copyrighted_urls': [{'url': 'No URL submitted'}],\n",
      "                     'description': 'LMFAO SEXY AND I KNOW IT',\n",
      "                     'infringing_urls': [{'url': 'http://www.4shared.com/mp3/6qCGPMEw/LMFAO_-_Party_Rock_Anthem.htm'}]}]}}\n"
     ]
    }
   ],
   "source": [
    "from pprint import pprint\n",
    "pprint(s.search_entity(\"Youtube Inc\", per_page=1))\n",
    "pprint(s.get_notice(5))"
   ]
  },
  {
   "attachments": {},
   "cell_type": "markdown",
   "metadata": {},
   "source": [
    "Searching is more indepth. Create a new search query, add all the terms you want (use your IDE's autocomplete), and then search. You'll get a SearchResult back! Let's get the first 5 Star Wars results."
   ]
  },
  {
   "cell_type": "code",
   "execution_count": 6,
   "metadata": {},
   "outputs": [
    {
     "name": "stderr",
     "output_type": "stream",
     "text": [
      "INFO:root:Requesting /notices/search.json with params {'term': 'star wars', 'per_page': '3', 'topics': <Topic.DMCANotice: 'DMCA Notices'>}\n",
      "INFO:root:Caching at cache/334cdb621c7474875c4a40a39dfada619314c3ffd627014d74ebdde9e15323e9.json\n"
     ]
    }
   ],
   "source": [
    "from lumen.SearchQuery import SearchQuery, Topic\n",
    "result = SearchQuery(s).with_query(\"star wars\").with_amount(3).with_topic(Topic.DMCANotice).search()"
   ]
  },
  {
   "attachments": {},
   "cell_type": "markdown",
   "metadata": {},
   "source": [
    "First, we can look at the metadata. This is pretty powerful by itself - without having to get every single notice, we get plenty of numbers about *every* entry that applied to our term. For instance, who are the top 10 principals for Star Wars content? (A principal is the one who owns the content, as far as I can tell)"
   ]
  },
  {
   "cell_type": "code",
   "execution_count": 7,
   "metadata": {},
   "outputs": [
    {
     "data": {
      "text/plain": [
       "[NameCount(name='BPI LTD MEMBER COMPANIES', instances=223082),\n",
       " NameCount(name='Mauris Film', instances=93127),\n",
       " NameCount(name='StarMedia', instances=88735),\n",
       " NameCount(name='CM.', instances=73080),\n",
       " NameCount(name='R1', instances=67699),\n",
       " NameCount(name='R-1', instances=65736),\n",
       " NameCount(name='MG Premium Ltd', instances=58013),\n",
       " NameCount(name='VGT', instances=40359),\n",
       " NameCount(name='BPI (British Recorded Music Industry) Ltd', instances=35496),\n",
       " NameCount(name='sacem', instances=30403)]"
      ]
     },
     "execution_count": 7,
     "metadata": {},
     "output_type": "execute_result"
    }
   ],
   "source": [
    "result.metadata.principals"
   ]
  },
  {
   "attachments": {},
   "cell_type": "markdown",
   "metadata": {},
   "source": [
    "BPI seems to be the biggest principal - that last one lets us know that it's the British Recorded Music Industry, so likely based on the soundtrack, interesting. Who's filing these requests, if it isn't the principal?"
   ]
  },
  {
   "cell_type": "code",
   "execution_count": 8,
   "metadata": {},
   "outputs": [
    {
     "data": {
      "text/plain": [
       "[NameCount(name='STAR MEDIA CONTENT PROTECTION', instances=294008),\n",
       " NameCount(name='BPI (British Recorded Music Industry) Ltd', instances=255142),\n",
       " NameCount(name='Star Media LLC.', instances=150161),\n",
       " NameCount(name='STAR MEDIA', instances=122036),\n",
       " NameCount(name='MG Premium Ltd.', instances=62081),\n",
       " NameCount(name='rivendell', instances=48450),\n",
       " NameCount(name='AudioLock.NET', instances=37934),\n",
       " NameCount(name='Link-Busters.com', instances=31346),\n",
       " NameCount(name='Remove Your Media LLC', instances=30942),\n",
       " NameCount(name='Recording Industry Association of America, Inc.', instances=29690)]"
      ]
     },
     "execution_count": 8,
     "metadata": {},
     "output_type": "execute_result"
    }
   ],
   "source": [
    "result.metadata.senders  # Note: submitters are those who submited it to LUMEN, senders are those who sent the request"
   ]
  },
  {
   "attachments": {},
   "cell_type": "markdown",
   "metadata": {},
   "source": [
    "BPI is definitely submitting their own, but Star Media could be something to look into. Use your IDE to look into the other fields in metadata! We get all of this without getting all of those individual entries, pretty sweet."
   ]
  },
  {
   "attachments": {},
   "cell_type": "markdown",
   "metadata": {},
   "source": [
    "Now we can take a look at some entries."
   ]
  },
  {
   "cell_type": "code",
   "execution_count": 9,
   "metadata": {},
   "outputs": [
    {
     "name": "stdout",
     "output_type": "stream",
     "text": [
      "Notice(title='DMCA (Copyright) Complaint to Google',\n",
      "       type=<NoticeType.Dmca: 'dmca'>,\n",
      "       date_sent='2022-02-28T00:00:00.000Z',\n",
      "       date_received='2022-02-28T00:00:00.000Z',\n",
      "       topics=[<Topic.DMCANotice: 'DMCA Notices'>,\n",
      "               <Topic.Copyright: 'Copyright'>],\n",
      "       tags=[],\n",
      "       jurisdictions=['DE'],\n",
      "       infringing_urls=Counter({'canna-power.to': 14, 'rapidgator.net': 2}),\n",
      "       works=['Meade,Austin - Black Sheep',\n",
      "              'Star Wars - Episode 5 - Das Imperium Schlägt Zurück',\n",
      "              'Star Wars - Episode 6 - Die Rückkehr Der Jedi Ritter',\n",
      "              'Star Wars - Solo: A Star Wars Story',\n",
      "              'Star Wars - Star Wars: Angriff Der Klonkrieger',\n",
      "              'Star Wars - Star Wars: Die Dunkle Bedrohung',\n",
      "              'Star Wars - Star Wars: Die Letzten Jedi',\n",
      "              'Star Wars - Star Wars: Die Rache Der Sith',\n",
      "              'Star Wars - Star Wars: Eine Neue Hoffnung',\n",
      "              'Warbringer - Weapons Of Tomorrow'],\n",
      "       subject=None,\n",
      "       body=None,\n",
      "       language=None,\n",
      "       action_taken=None)\n"
     ]
    }
   ],
   "source": [
    "pprint(result.notices[0])"
   ]
  },
  {
   "attachments": {},
   "cell_type": "markdown",
   "metadata": {},
   "source": [
    "So we get one request here, we see that it's DMCA, it was within the DE jurisdiction, the two URLs they were targetting were canna-power.to and rapidator.net and we counted how many times those urls occured. Let's join all the urls together for all 5 of those requests and see what the most common were:"
   ]
  },
  {
   "cell_type": "code",
   "execution_count": 10,
   "metadata": {},
   "outputs": [
    {
     "data": {
      "text/plain": [
       "[('book4you.org', 210),\n",
       " ('nerdebooks.com', 37),\n",
       " ('gosemuts.space', 30),\n",
       " ('minhateca.com.br', 16),\n",
       " ('canna-power.to', 14),\n",
       " ('toutbox.fr', 14),\n",
       " ('chomikuj.pl', 12),\n",
       " ('185.231.223.131', 9),\n",
       " ('123moviesgo.ws', 8),\n",
       " ('103.194.171.185', 7)]"
      ]
     },
     "execution_count": 10,
     "metadata": {},
     "output_type": "execute_result"
    }
   ],
   "source": [
    "from functools import reduce\n",
    "reduce(lambda a, b: a + b, (notice.infringing_urls for notice in result.notices)).most_common(10)"
   ]
  },
  {
   "attachments": {},
   "cell_type": "markdown",
   "metadata": {},
   "source": [
    "Haha, that's pretty cool, interesting that book websites were actually the highest number of requests here. book4you.org has been seized by the United States Government, and I'm probably on a list now for trying to visit it."
   ]
  },
  {
   "attachments": {},
   "cell_type": "markdown",
   "metadata": {},
   "source": [
    "You can also access the raw json with `result.raw`. I haven't mapped everything, if there's something in the JSON you want in the python object feel free to add it or let me know. The mapping from JSON to object is in `SearchResult.py`."
   ]
  },
  {
   "attachments": {},
   "cell_type": "markdown",
   "metadata": {},
   "source": [
    "Anyways that's generally where it's at right now, it returns Python objects that you can explore and compare. I definitely want to get it into a dataframe, shouldn't be that bad. There are some fields I haven't mapped, feel free to mess around with those."
   ]
  },
  {
   "attachments": {},
   "cell_type": "markdown",
   "metadata": {},
   "source": [
    "## Basic Pagination Example"
   ]
  },
  {
   "attachments": {},
   "cell_type": "markdown",
   "metadata": {},
   "source": [
    "Haven't added this as a function, but pagination is pretty simple:"
   ]
  },
  {
   "cell_type": "code",
   "execution_count": 11,
   "metadata": {},
   "outputs": [
    {
     "name": "stderr",
     "output_type": "stream",
     "text": [
      "INFO:root:Sleeping for 2 seconds\n",
      "INFO:root:Requesting /notices/search.json with params {'per_page': '1', 'term': 'Skinamarink', 'page': '1'}\n",
      "INFO:root:Caching at cache/8d9d026a6e9e52dcf45fb8aeee277fe53087d287a73fa1aae916a4f1582861fa.json\n",
      "INFO:root:Sleeping for 2 seconds\n",
      "INFO:root:Requesting /notices/search.json with params {'per_page': '1', 'term': 'Skinamarink', 'page': '2'}\n",
      "INFO:root:Caching at cache/502c81a7182dec1f2869e2382c76a9c00fe10e25e6d5f1c1ae0cd49f23e7f61f.json\n",
      "INFO:root:Sleeping for 2 seconds\n",
      "INFO:root:Requesting /notices/search.json with params {'per_page': '1', 'term': 'Skinamarink', 'page': '3'}\n",
      "INFO:root:Caching at cache/9fc911d3f4d6a283086c8344f7fbf2938cab1c5b3cdc7c1ef38b48956ae3dd95.json\n"
     ]
    },
    {
     "data": {
      "text/plain": [
       "[('DMCA (Copyright) Complaint to Google', '2023-01-04T00:00:00.000Z'),\n",
       " ('DMCA (Copyright) Complaint to Google', '2023-01-18T00:00:00.000Z'),\n",
       " ('DMCA (Copyright) Complaint to Google', '2022-12-29T00:00:00.000Z')]"
      ]
     },
     "execution_count": 11,
     "metadata": {},
     "output_type": "execute_result"
    }
   ],
   "source": [
    "from lumen.SearchResult import Notice\n",
    "# Build a query and set the number per page, but don't set the page or search it yet\n",
    "basic_query = SearchQuery(s).with_amount(1).with_query(\"Skinamarink\")\n",
    "# Start building a list of notices\n",
    "notices : list[Notice] = []\n",
    "\n",
    "# Be sure to use range 1, since we don't want page 0.\n",
    "for page in range(1, 4):\n",
    "    # Set the page for the query each time and search it!\n",
    "    data = basic_query.with_page(page).search()\n",
    "    notices.extend(data.notices)\n",
    "\n",
    "# entries now holds all the entries from all pages!\n",
    "[(notice.title, notice.date_received) for notice in notices]"
   ]
  },
  {
   "attachments": {},
   "cell_type": "markdown",
   "metadata": {},
   "source": [
    "## Date Ranges"
   ]
  },
  {
   "attachments": {},
   "cell_type": "markdown",
   "metadata": {},
   "source": [
    "Uses python's date module. It lets us get down to millisecond precision - I assume we don't care about that, so I left it at day precision :)"
   ]
  },
  {
   "cell_type": "code",
   "execution_count": 46,
   "metadata": {},
   "outputs": [
    {
     "name": "stderr",
     "output_type": "stream",
     "text": [
      "INFO:root:Cache hit on /notices/search.json with {'works': 'Everything Everywhere All At Once', 'works-require-all': 'true', 'date_received_facet': '1420099200000..1577865600000', 'per_page': '100'} at cache/7006f69870c1cd8ce1efeb88a22a9c6d9699e6fbf6cfd1bdf3832e4188ee0513.json\n"
     ]
    },
    {
     "data": {
      "text/plain": [
       "{'\"Blue Ocean Floor - Archetype\", \"Krewella - Human (Trapstep Remix)\", \"Akilla/Justin Timberlake - Amnesia\", \"SCORPIONS - Still loving you [Napisy PL]\", \"[Diabolik lovers] Yui Komori _ Human\", \"Mauricio Skate Edit\", \"Trade Wind\", \"Лучшие умирают молодыми. The Scorpions - The Good Die Young\", \"Christina Aguilera - All I Need (subtítulos español)\", \"CHRISTINA AGUILERA NOT MYSELF TONIGHT  ULTIMIX BY JULIO SKOV\", \"Christina Aguilera - Not Myself Tonight (JMBW & Joel Dickinson Video Mix)\", \"Annie & Albert \"The Perfect Pair\"\", \"[kst.vn]il divo mama[kste] 640x360\", \"Il Divo - Mama\", \"a day on the trail\", \"Cycling into the Continental U.S.\", \"Ozzy Osbourne - The Ultimate Sin\", \"Camp July 6th-8th 2012\", \"DANCEACTION | SUMMERCLASS | LUKE | Chris Brown - 4 Years old\", \"MGMT \"Alien Days\"\", \"The Schacht Of Flight\", \"Rob Webb riding DMR Bolt\", \"Hipnoxis TV present: AWF - Hall of Fame Expo @ La Respuesta\", \"SkiSki Alpe d\\'Huez 2016\", \"Pnoise Memories\", \"Graduation Party\", \"Fanfiction Trailer \"Trading Air\"\", \"Di sini ku bermula\", \"Munich | Germany | One Penny Trip\", \"The Fray- \"Break Your Plans\" Video\", \"Pearl Jam - Given to Fly\", \"MICA Runway 2008\", \"BCTV: WHEREVER YOU ARE (SAILING TO NOWHERE)\", \"Broken Bells - Holding On For Life\", \"FirstWeekSnowBuck1st\", \"Broken Bells - Holding on for life\", \"Broken Bells - Holding on for Life   (The Very Unofficial Music Video)\", \"Mates and Barrels\", \"Vakantie Italie\", \"Åre 2013\", \"MGMT - Your Life Is a Lie\", \"어필 christina aguilera - glam\", \"Peace \\'World Pleasure\\' (Dir. Cut)\", \"two monkeys go Down Under\", \"Peace - Lost On Me (Choreographer: Supple Nam)\", \"O2 presents WALK OFF THE EARTH “Little Boxes”\", \"Chris Brown / Back To Sleep (Official Basement Music Video )\", \"SEAN KINGSTON \"Beautiful Girls\"\", \"Sean Kingston - Face Drop - Official Music Video\", \"Marc Anthony - I Need You\", \"Olly Murs - Right Place Right Time (Official Video)\", \"LITTLE MIX - LITTLE ME-upload\", \"2CELLOS - Smooth Criminal OFFICIAL VIDEO\", \"Welcome to Gazpacho Boards - SPANISH TEAM: Bernat Pomerol\", \"Olly Murs - Heart Skips A Beat ft. Chiddy Bang\", \"Legend RB vs roggog\", \"KATE King of The Road - Team Fenix\", \"Sylvester Cassel Cross Montage\", \"NO PAIN NO GAIN\", \"Justin Timberlake - What Goes Around...Comes Around\", \"Benny Hasseler | Body Count by Justin Timberlake\", \"Félix Gau-Rinaldi - Avril 2011\", \"CHADBEE PHOTOGRAPHY: Mirror Detailing Video Feature\", \"Scorpions - Still Loving You\", \"MGMT    \"ALIEN DAYS\"\", \"Christina Aguilera - You Lost Me - (Resolution360P-MP4)\", \"Christina Aguilera- You Lost Me video\", \"Olly Murs - Heart On My Sleeve\", \"RIP Myranda, Game of Thrones, in Olly Murs - Beautiful to Me\", \"PEACE \"MONEY\"\", \"Foo Fighters - Times Like These (2003)\", \"Chris brown \"All back\" by David V.\", \"Chris Brown - Sweet Love\", \"もて耐2014\\u3000PlanBee RACING TEAM x ARATA\", \"MGMT \"It\\'s working\"\", \"Scorpions - Still Loving You adinaaaaaaaaaaaa (ciervo699)\", \"Citywalk\", \"Journey to Lake Balboa\", \"MGMT: \"Alien Days\"\", \"Christina Aguilera - Lift Me Up\", \"Peter & Olivia - Look After You\", \"Effy/Emily/Naomi - Little House\", \"The Fray | All At Once\", \"Artem & Xenia\", \"Jack & Kari ( The Fray - Look After You )\", \"The Fray - Over My Head (Cable Car)\", \"pranayama sunset off the coast of Oregon.\", \"Pearl Jam Jeremy (Legendado)\", \"Yowrie September 2012  (The Fray - Be Still)\", \"Happy Birthday Mom\", \"2CELLOS - Wake Me Up - Avicii [OFFICIAL VIDEO]\", \"2CELLOS - Thunderstruck [OFFICIAL VIDEO]\", \"Oompa Remix - Justin Timberlake - Like I love you\", \"Mampituba Glass\", \"Back to School Blow Out 2013 VF\", \"KGull Productions 2012 Reel\", \"Krewella - Killin It\", \"Cerro Catedral 2011\", \"KASPIKC (Krewella - We Are One) Remix\", \"Soda Stereo - Juegos De Seducción\", \"Wild Bull - Freshman Night 2013\", \"Viajando para Orlando 04 (Epcot Center)\", \"Krewella One Minute\", \"Christina Aguilera Bionic\", \"Jordan Vandenberg Souldiers Winter 2014\", \"\"YOUTH EXPRESS\" W version\", \"Walk off the Earth-Somebody That I Used To Know\", \"Sony | Walk off the Earth\", \"Stop-motion Music Video Project\", \"Chris Brown Ft Marvin Gaye - Back To Sleep Music Video\", \"PEACE: IMAGINARY\", \"Ação de atravessamento 2.1\", \"2CELLOS - Shape Of My Heart [OFFICIAL VIDEO]\", \"More by Little Mix · Move\", \"Little Mix \\'We Are Young\\'\", \"France\", \"Little Mix - Word Up!\", \"Killing in the name of - Rage Against the Machine // Tunisia, Egypt, Libya...\", \"Justin Timberlake - SexyBack\", \"Justin Timberlake -SexyBack/ Directed by Michael Haussman/ 2006\", \"ian and nina - when it was you and me\", \"Ocean Floor\", \"Alina Barilova | Justin Timberlake \"Only When I Walk Away\"\", \"Pride and Prejudice ♥ Still Loving You !\", \"Scorpions - Still Loving You\", \"MGMT : Alien Days\", \"Afterwork Pt.2 - Juan C Pizarro\", \"Christina Aguilera - Ain\\'t No Other Man\", \"Angel-A - You lost me\", \"OM \\'Right Place Right Time\\'\", \"Olly Murs - Busy\", \"Olly Murs - Beautiful to Me\", \"Austen Mamas\", \"Documentário - BMX sem mistérios\", \"Chris Brown - Sweet Love 甜蜜的愛【中字HD】\", \"IV VAG NYSA 2010\", \"Metanoia - Fictional Title Sequence\", \"Scorpions - Still Loving You - Holiday\", \"Giulia Challenge - Infineon IRL Raceway Gara 1\", \"Lil Jake\", \"Christina Aguilera - Not myself tonight (Mickiyagi\\'s dance remix)\", \"Beyonce - Hold Up (Sneak Peak)\", \"Beyoncé always on beat- Hold Up\", \"HOLD UP | MTV VMAS STUDIO VERSION | BEYONCÉ ( official)\", \"THE FRAY - All at Once\", \"Manitoba Backcountry Ski - January 2014\", \"The Fray - The Wind\", \"The Guys\", \"My Mom is My Best Friend\", \"ASW-28 2.5M Second Flight (windy)\", \"MOONLIGHT\", \"Little Mix - Going Nowhere (lyrics+pictures) - YouTube\", \"Powderfever\", \"Portland Think Brilliant / TechCrunch 5th Birthday Party\", \"RaPiD MEAL TIME ~ Fish & Chips [5/7]\", \"RED, WHITE & BLUE\", \"Beyoncé - All Night Freestyle by: @NateliRuizPromo1\", \"5 АПРЕЛЯ | P\\'REZIDENT HALL | НОВОЧЕБОКСАРСК | PAP\\'RIKA\", \"Sagada 2015\", \"Local Freeride Cup 2011\", \"Christina Aguilera - Candyman (Lyrics on screen)\", \"#SpreadLove featuring Change, by Christina Aguilera\", \"A Roma\", \"Walk off the Earth \"Gang Of Rhythm\"\", \"Peace - Wraith\", \"PEACE \"LOST ON ME\"\", \"Scouting For Girls -  Without You\", \"Chris Brown - Back To Sleep (Remix ft. Usher X Zayn) [[Official Video]]\", \"made clip - Chris Brown - i need this\", \"Chris Brown - Grass ain\\'t greener - Freestyle dance\", \"Kings of Leon - \"Birthday\" Lyric Video\", \"Sean Kingston - Party All Night VS Backseat Remix\", \"Peace - Follow Baby (dir. Rob+Rob)\", \"Peace - Follow Baby\", \"Rome - Herrenabend 2010\", \"Little Mix - How Ya Doin\\'  (Salute Tour Screens)\", \"2 Day ski !\", \"Little Mix - Word Up BTS Sports relief\", \"Polish Cycle Messenger Championships 2012 KATOWICE - promo\", \"Justin Timberlake/ What Goes Around.. Comes Around/ Directed by Samuel Bayer 2007\", \"Shines Bodycount\", \"Justin Timberlake - Like I Love You\", \"Zadar, Croatia\", \"Аляска - Колонизация севера (Paintball)\", \"MGMT COOL SONG NO. 2-HD\", \"Scorpions We built this house\", \"Christina Aguilera - You Lost Me\", \"Christina Aguilera - You Lost Me\", \"Gettin\\' Busy Doin\\' Nothin\\'\", \"Il Divo - Mama\", \"Christina Aguilera - The Beautiful People (from Burlesque)\", \"Chris Brown - All back (Official Video)\", \"Krewella at Beyond Paradise\", \"Vemma TDT Vegas\", \"Go Wild in Sri Lanka\", \"Gudauri, Georgia, February March April 2015\", \"GARTH  2 0 1 4\", \"Foo Fighters - White Limo\", \"MGMT - Flash Delirium (Uncensored)\", \"Clarity\", \"Hold Up (Sarafin 808 Redrum) - Beyonce\", \"Pearl Jam \"In My Tree\"\", \"OZZY OSBOURNE - Tonight\", \"The Fray - Over My Head (Cable Car) - GrandPause & Eddie Lin Photography Wedding Engagement Music Video\", \"2012 M.T in Everland\", \"The Fray \"Heartbeat\"\", \"Little mix - DNA (lyrics) - YouTube\", \"001: It\\'s Been A Warm Spring\", \"Bribe Mentality: Neglecting and Derailing Intrinsic Motivation\", \"creme de la creme Scotty\", \"Sailing To Nowhere - Broken Bells\", \"Tramp\", \"Orlando to Key West\", \"3 Days\", \"Mrežnica_Croatia\", \"Blake Fawley - Demo Reel\", \"48 Hours Up North\", \"Tomorrowland 2014 - Aftermovie #potedutonnerre\", \"Witness - I\\'m Killin\\' That A$$\", \"Krewella - We Are One (Chen Leiba Remix)\", \"Gary Sexton May 2010 Demo Reel\", \"StatusError Portuguese Conection\", \"Christina Aguilera - Bionic Joelapuss Mix\", \"Beautiful in International Sign\", \"Christina Aguilera - Glam (Bionic - 2010)\", \"christina aguilera - glam (kristina gerasimova choreo)\", \"VAI COMPRAR?\", \"Karolinka spring session 2013\", \"Futbol = Freedom\", \"Walk Off The Earth - RULE THE WORLD\", \"NY2015\", \"Scouting For Girls \"Without You\" | Directed by Courtney Phillips\", \"Chris Brown   Gimme That (Remix) (Ft Lil Wayne)  (Music Video)\", \"CRAFT : AERIAL UNDERWATER EXPERIMENT\", \"Olly Murs - Heart Skips A Beat\", \"Hair (Bonus Video Get Weird) - Little Mix\", \"Jessica Romero\", \"JUSTIN TIMBERLAKE — WHAT GOES AROUND COMES AROUND\", \"Jesse Sutterlin 2012-2013 Production Reel\", \"Ile de la Réunion - Longskate - Atelier slide au Maniron\", \"Krewella - Broken Record\", \"Olly Murs - Hand on Heart (Official Audio)\", \"Olly Murs - Busy\", \"Olly Murs // Heart on my sleeve\", \"[kst.vn]il divo mama[kste] 640x360\", \"LISSIE \"EVERYWHERE I GO\"\", \"Krewella - Feel Me (Official Music Video)\", \"The Map\", \"Scorpions - Still Loving You - Still Loving You\", \"FOO FIGHTERS \"WHITE LIMO\"\", \"I found a whistle\", \"Crajes at Casa Clara (mural painting)\", \"Beyonce_-_Hold_Up_dir.Jonas_Åkerlund.prod.Serial_C\", \"THE FRAY - All at Once\", \"My Favorite Songs of 2013 (Part I: From 100 to 76)\", \"The Fray - Love Don\\'t Die Typography\", \"Mother\\'s Day 2016\", \"Root Longboards || Welcome to the Team :: Pan Diemer & Adrian Wersching\", \"2CELLOS - Wake Me Up - Avicii\", \"Little Mix - DNA [Legendado]\", \"2CELLOS - Thunderstruck [OFFICIAL VIDEO]\", \"2CELLOS - Thunderstruck [OFFICIAL VIDEO]\", \"2CELLOS - The Trooper Overture\", \"Like I Love You (JUSTIN TIMBERLAKE) choreo by HERWYN SILVA  | Rhythm Addict TV\", \"Sailing To Nowhere - Broken Bells\", \"Broken Bells\\' AFTER THE DISCO: PART I\", \"Interior BC - 2014\", \"Stanford Sailing Ski Trip 2014\", \"Kroatien \\'14\", \"Broken Bells - The Ghost Inside\", \"260 лет мУЧЕНИЙ. Official aftermovie\", \"trail grimbosq 9-4-16\", \"IRIS\", \"Looptroop Rockers - On Repeat (2010)\", \"Beautiful [=] in International Sign\", \"Calvin Harris - Ready For The Weekend\", \"Palaboyz in Malaysia Part 2\", \"Olivia Grace Haglund photoshoot\", \"Is it on?\", \"PEACE - WRAITH\", \"Peace - Wraith\", \"\"somebody that i used to know...“ shortfilm by Patrizia Kowalak\", \"Walk Off The Earth - Material Girl\", \"Chris Brown - All Back\", \"Peace \\'Money\\' - Ninian Doff / Pulse Films\", \"Peace / Imaginary\", \"Peace - Gen Strange\", \"Peace \\'Follow Baby\\'\", \"Rob&Rob / PEACE - Follow Baby (clip)\", \"wake-up woodrow ep.1\", \"Little Mix - Madhouse (lyrics) - YouTube\", \"2CELLOS - Hysteria [OFFICIAL VIDEO]\", \"Few snippets from my jam to Wham! Everything She Wants!\", \"Little Mix - Word Up! (The Alias Club Mix - V.J. Blue Peter Video Remix 2014)\", \"CrossFit Biola Winter 2013 Tough Mudder (Extended Cut)\", \"En attendant la poudre...\", \"Rage Against The Machine - Killing In The Name\", \"foo fighters-walking after you\", \"Студия танца \"ПРОСПЕКТ\" | Choreo by Marina Kireeva | Justin Timberlake- Battle Of The Sexxxes\", \"Sweet Sassy Summer Time\", \"NärCon Vinter 2015: Aftermovie\", \"MGMT - Alien Days\", \"Scorpions 2010/9 рота\", \"Полное видео с фестиваля «Небо России 2014» в Рязани\", \"OLLY MURS \\'Right Place Right Time\\'\", \"Olly Murs - Dear Darlin remix jbv60\", \"H2O 2013 Official After Movie | Stance Nation\", \"MGMT - It\\'s Working\", \"STODEST BONUSPART - PARLAMENT VIDEO\", \"Foo Fighters - White Limo\", \"Coed-y-brenin Mountain Biking April 2011\", \"MGMT — It\\'s Working\", \"MINI KTE 2013 Spain Day 3\", \"The Fray - Over My Head magyar felirattal\", \"Fortitude Health & Training // Combat Kickbox\", \"Slideshow ~ Gabriela Lara\", \"The Fray - Streets of Philadelphia\", \"Trinity-Pawling: Large Portraits\", \"TOUGH MUDDER & BUDGY SMUGGLER 2014 GO PRO HD\", \"Ozzy Osbourne - Tonight (without fading)\", \"Ozzy Osbourne - Suicide Solution with lyrics on video [HD]\", \"Trentineto Tour 2014\", \"Foo Fighters \"These Days\" [HD]\", \"Learning to fly. First solo flight.\", \"The Fray - Be Still\", \"foo fighters - these days vinyl rip\", \"Superenhanced - V2E1, Chris Arendt\", \"Little Mix - DNA\", \"Little Mix - DNA (Behind The Scenes)\", \"Little Mix - DNA (Official Video)\", \"2CELLOS - Thunderstruck\", \"2013.01.21. Söpte-Acsád katasztrofális útviszonyok - Katastrophic Snowy Off-Road\", \"2CELLOS - The Trooper Overture [OFFICIAL VIDEO]\", \"wakeskating in the philippines\", \"SlopeStyle Champion\\'s League\", \"Enchanting INDIA - 16:9 Multiscreen\", \"Making Of LUMA\", \"Ben & Dod - N°04 - RaWayork\", \"100x100\", \"Whirligig\", \"GoPro Reel Winter \\'12-\\'13 Geoffrey Klane\", \"Super Jungle Mission Extreme\", \"Krewella - Life in Color - Phoenix, AZ\", \"8mm Style, White Noise New Year\\'s Party\", \"Bootcamp Aftermovie: We Go Down\", \"VFX - Compositing Demo Reel 2015 - EVAN GRAVES\", \"Scorpions - No One Like You\", \"No One Like You\", \"Marcin Pośpiech Season Remix 12/13\", \"Guates Hosen\", \"FLY by BUTTERFLY - session photo\", \"Walk off the Earth \"Speeches\"\", \"Walk off the Earth - Somebody That I Used to Know (BreddaHoodz™ Added)\", \"Stand Up For CHEO - Ottawa 2014\", \"Christina Aguilera - Army Of Me\", \"Thailand 2014\", \"LOOPTROOP ROCKERS - The Building\", \"Peace - Money (Choreographer: Supple Nam)\", \"ING DIRECT presents WALK OFF THE EARTH \"Material Girl\"\", \"Road of lights\", \"Walk Off The Earth // Material Girl\", \"Sean Kingston \"Face Drop\" Music Video\", \"aint sorry that i raped ya\", \"Walk Off The Earth, HOME WE\\'LL GO Lyric Video\", \"Κυπριακή Δημοκρατία\", \"PEACE | Imaginary You | Music Video\", \"07 Sean Kingston | Eenie Meenie\", \"Sean Kingston - Take You There\", \"Wham! - Wake me up, before you go-go\", \"2CELLOS - \"Mombasa\" from INCEPTION [OFFICIAL VIDEO]\", \"Composition\", \"Olly Murs - Oh My Goodness\", \"Inline skating in slow motion (Paris, France 03.04.09)\", \"Rodney Mullen Remix!!!!\", \"RAGE AGAINST THE MACHINE - _KILLING IN THE NAME OF_ VDJ CHRIS LANDRY\", \"{Underwater bride - FOTOEDITORIÁL}\", \"Scorpions-Still loving you\", \"When spring comes\", \"Kings of Leon - Charmer (Screaming Sheep Remix)\", \"Bacolod 2015\", \"CHRIS BROWN- \"SWEET LOVE\"\", \"FooPaa Dívka 2013\", \"Light\\'s Club - Szécsény - EP.02.\", \"Graduation\", \"New Music Labs - Foo Fighters - White limo\", \"Endless Summer 10\", \"Shavonne & Rawiri Wedding Story\", \"The Fray - Over my head\", \"Unofficial Music Video - ungodly hour\", \"Kidzoona Date\", \"PEARL JAM \"In My Tree\"\", \"[INTRODUCING KHZNHUK] SOUTH UK WINTER TOUR\", \"Foo Fighters These Days\", \"Music Video - Pearl Jam - \"Jeremy\" (Directors Cut)\", \"Mom this is your video\", \"NOLEAF - JAN 2010 MIX\", \"Extreme Carving session no.4,  28.1.2011\", \"Ozzy Osbourne See You On The Other Side Lyrics\", \"2CELLOS - Wake Me Up - Avicii OFFICIAL VIDEO\", \"Little Mix - Dna (lyric Video)\", \"MultiCouple(x3)│ He just takes my breath away\", \"justin timberlake -like i love you- 360x270\", \"Justin Timberlake - Like I Love You (Big Elmo Remix)\", \"GENTLEMEN\\'S SUMMERCAMP 2011 EPISODE #1\", \"Canalone Huda Paliza 2330m\", \"Broken Bells \"The Ghost Inside\"\", \"Gael Simon Winter Edit\", \"Buldring i Myklebostad\", \"Broken Bells - The Mall & Misery (fan-made video)\", \"PCS Year-end Neon Party 2013\", \"Krewella - Killin It (music video)\", \"Haftanın En Güzel 10 Golü | 18-22 Mart 2015\", \"Christina Aguilera - Elastic Love\", \"Second USA mission.. HD\", \"Las Vegas\", \"Tongues et pâté.\", \"Calvin Harris - You Used To Hold Me\", \"Teaser\", \"Phil Marchand Images Demo Reel\", \"Ты меняешь телефон\", \"Looptroop Rockers // The Building\", \"The Winterclash adventure – Day 2 of 3\", \"Chris Brown - Beg For It\", \"Aerial Shots with Dji Advanced\", \"Chris Brown - Back To Sleep (Official Video)\", \"Toying Around w/ Fine China\", \"VISIT TORONTO\", \"Justin Bieber ft. Sean Kingston - Eenie Meenie.-SD\", \"Adventure time: London\", \"TWO WEEKS IN EUROPE\", \"Mr and Mrs Frimpong\", \"Sean Kingston - Party All Night (DJ MTG & José Zapata Remix)\", \"Wham! - Wake Me Up Before You Go-Go\", \"Little Mix - Little Me\", \"Little Mix - Madhouse (lyrics)\", \"Rafael Arace Reel 2016 - Animation & VFX\", \"Kalnrozenu Beer Pong 1.posms 2014\", \"¡Hasta la Victoria Siempre! (México 7-7-2012)\", \"Year 6 Leavers 2016\", \"Lamme \\\\\\\\ 2011\", \"Triathlon de Verão - Guarapari\", \"Skydiving with Friends for my 30th Birthday\", \"Scorpions_When You Came Into My Life\", \"Christina Aguilera - You Lost Me (Official Music Video)\", \"OLLY MURS - BEAUTIFUL TO ME\", \"Happy Thanksgiving!\", \"Lissie - Everywhere I Go\", \"Chris Brown- 4 Years Old (Fortune)\", \"Chris Brown - Sweet Love\", \"Come & Get It by Krewella (Rogue Remix)\", \"MGMT - It\\'s Working (official music video)\", \"Untitled Dream\", \"CHAGANOVA ON TOUR #8. 越南\", \"Turndown and Carmax\", \"MGMT -  Alien Days  Record Store Day Cassingle\", \"Beyoncé - Countdown\", \"Lisa + Alex, 49 - France : the home of romance\", \"Happy Mother\\'s Day Mom\", \"the fray \"look after you\"\", \"Televenta Pinkk\", \"Title Music Video\", \"\"Flight\"\", \"Man\\'s Best Escape With Man\\'s Best Friend\", \"The Top Ten CLASSIC METAL Albums You Must Have Before You Die!\", \"The Fray \"Heartbeat\" Music Video\", \"2CELLOS - Thunderstruck [OFFICIAL VIDEO]\", \"The Local Park\", \"LowBall IV | A Mid Summer\\'s Recall\", \"Broken Bells   After the Disco Rmix Extended Dj Frankse  llado\", \"Player One. Un corto de Mauricio Guillén\", \"mammoth march 2011\", \"Beyoncé - All Night\", \"NBA All-Star 2012 Skills Challenge Tease\", \"White Rabbits Dubstep Night I\", \"Krewella - Somewhere to Run\", \"Scorpions - Rhythm of Love - Hard - Frets on Fire\", \"FLY by BUTTERFLY\", \"How to Make Friends\", \"MGMT - Your life is a lie\", \"Guy What Takes His Time  |  Jaimie Kopeck\", \"WALK OFF THE EARTH | Red Hands\", \"Hawaii - Oahu and The Big Island\", \"Walk Off The Earth \"Little Boxes\"\", \"PEACE LOST ON ME-HD\", \"Sean Kingston - Gotta Move Faster\", \"Ozzy Osbourne - You Can\\'t Kill Rock And Roll\", \"Marc Anthony - I Need You\", \"sean kingston take you there\", \"Lost in Cirebon\", \"2CELLOS - Smooth Criminal [OFFICIAL VIDEO]\", \"2CELLOS - Smooth Criminal\", \"Snowboard 2013 Trailer\"',\n",
       " 'Katrina Leno - Everything All at Once\\nPublished by: HarperCollins',\n",
       " 'fray-all at once',\n",
       " 'whitney houston-all at once'}"
      ]
     },
     "execution_count": 46,
     "metadata": {},
     "output_type": "execute_result"
    }
   ],
   "source": [
    "from datetime import date\n",
    "date_result = SearchQuery(s).with_works_desc(\n",
    "    \"Everything Everywhere All At Once\", works_require_all=True\n",
    "    ).with_date_range(date(2015, 1, 1), date(2020, 1, 1)).with_amount(100).search()\n",
    "{work for notice in date_result.notices for work in notice.works if \"all at once\" in work.lower()}"
   ]
  },
  {
   "attachments": {},
   "cell_type": "markdown",
   "metadata": {},
   "source": [
    "Huh? Where's our movie?\n",
    "\n",
    "Ah duh, the award winning \"Everything Everywhere All At Once\" didn't even come out until 2022 :p\n",
    "\n",
    "This is also a good lesson that \"require_all\" really doesn' seem to do a whole lot - maybe those 5 words are in these requests, but they certainly aren't all together :/ Be sure to filter what you get back.\n",
    "\n",
    "Let's look at some more recent requests then:"
   ]
  },
  {
   "cell_type": "code",
   "execution_count": 48,
   "metadata": {},
   "outputs": [
    {
     "name": "stderr",
     "output_type": "stream",
     "text": [
      "INFO:root:Cache hit on /notices/search.json with {'works': 'Everything Everywhere All At Once', 'works-require-all': 'true', 'date_received_facet': '1577865600000..1684825200000', 'per_page': '100'} at cache/1ba448b9e43bddfea30718564aaa90eaa3e316e98b0fb40f405ca6a1662cdf56.json\n"
     ]
    },
    {
     "data": {
      "text/plain": [
       "Counter({'Everything Everywhere All At Once': 96,\n",
       "         'Everything Everywhere All at Once': 3,\n",
       "         'Os direitos autorais do meu filme \"Everything Everywhere All at Once\", estão sendo violados pelo trecho publicado neste site, que inicia-se com: Everything Everywhere All at Once\\r\\n\\r\\nA violação leva a transmissão ilegal do conteúdo, não autorizamos esta reprodução.': 1})"
      ]
     },
     "execution_count": 48,
     "metadata": {},
     "output_type": "execute_result"
    }
   ],
   "source": [
    "from collections import Counter\n",
    "new_date_result = SearchQuery(s).with_works_desc(\n",
    "    \"Everything Everywhere All At Once\", works_require_all=True\n",
    "    ).with_date_range(date(2020, 1, 1), date(2023, 5, 23)).with_amount(100).search()\n",
    "\n",
    "Counter(work for notice in new_date_result.notices for work in notice.works if \"everywhere\" in work.lower())"
   ]
  },
  {
   "attachments": {},
   "cell_type": "markdown",
   "metadata": {},
   "source": [
    "There we go, that's more realistic for 2020-2023 :)"
   ]
  },
  {
   "attachments": {},
   "cell_type": "markdown",
   "metadata": {},
   "source": [
    "Finally, remember to close your session :) Not a biggie but it's polite. If you're writing a script you can instead do this in a with block (see `basictest.py`)"
   ]
  },
  {
   "cell_type": "code",
   "execution_count": 49,
   "metadata": {},
   "outputs": [],
   "source": [
    "s.close()"
   ]
  },
  {
   "attachments": {},
   "cell_type": "markdown",
   "metadata": {},
   "source": [
    "## Loading from a Cache"
   ]
  },
  {
   "attachments": {},
   "cell_type": "markdown",
   "metadata": {},
   "source": [
    "If you want to quickly load all data from a previous session but don't have the exact requests, or if a groupmate has shared their cache and you want to load it, you can use `load_all_cache_entries` from `SearchResult` and you'll get a list of all the entries in that cache. "
   ]
  },
  {
   "attachments": {},
   "cell_type": "markdown",
   "metadata": {},
   "source": [
    "This can be more easily achieved by naming the cache something meaningful when you initalize a session, for instance `s = LumenAPIManager(cache=Path(\"govtTakedowns2016-2022\"))` will create a cache with that folder name."
   ]
  },
  {
   "cell_type": "code",
   "execution_count": 2,
   "metadata": {},
   "outputs": [
    {
     "data": {
      "text/plain": [
       "['SHESAID COPY',\n",
       " 'DMCA ABUSE ',\n",
       " 'http://www.webcamrecordings.com/category/all-sites/flirt4free/',\n",
       " 'DMCA ',\n",
       " 'DMCA notice to Google Inc',\n",
       " 'A false report about a link to illegal download',\n",
       " 'Project Free Tv',\n",
       " 'Project Free Tv',\n",
       " 'DMCA (Copyright) Complaint to Google',\n",
       " 'LO MAAN LIYA Lyrical | Raaz Reboot | Arijit Singh | Emraan Hashmi, Kriti Kharbanda, Gaurav Arora']"
      ]
     },
     "execution_count": 2,
     "metadata": {},
     "output_type": "execute_result"
    }
   ],
   "source": [
    "from pathlib import Path\n",
    "from lumen.SearchResult import load_all_cache_entries\n",
    "entries = load_all_cache_entries(Path(\"cache\"))\n",
    "\n",
    "[entry.title for entry in entries][:10]"
   ]
  }
 ],
 "metadata": {
  "kernelspec": {
   "display_name": "venv",
   "language": "python",
   "name": "python3"
  },
  "language_info": {
   "codemirror_mode": {
    "name": "ipython",
    "version": 3
   },
   "file_extension": ".py",
   "mimetype": "text/x-python",
   "name": "python",
   "nbconvert_exporter": "python",
   "pygments_lexer": "ipython3",
   "version": "3.11.3"
  },
  "orig_nbformat": 4
 },
 "nbformat": 4,
 "nbformat_minor": 2
}
